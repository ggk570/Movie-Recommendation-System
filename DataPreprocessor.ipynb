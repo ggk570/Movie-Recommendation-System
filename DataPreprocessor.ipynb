{
 "cells": [
  {
   "cell_type": "code",
   "execution_count": 1,
   "id": "601c9f58-8529-498e-aa6e-e7dbf45dc0a8",
   "metadata": {},
   "outputs": [
    {
     "name": "stderr",
     "output_type": "stream",
     "text": [
      "D:\\Projects\\Projects python\\Movie Recommendation System\\env\\Lib\\site-packages\\tqdm\\auto.py:21: TqdmWarning: IProgress not found. Please update jupyter and ipywidgets. See https://ipywidgets.readthedocs.io/en/stable/user_install.html\n",
      "  from .autonotebook import tqdm as notebook_tqdm\n"
     ]
    }
   ],
   "source": [
    "import numpy as np\n",
    "import pandas as pd\n",
    "import re\n",
    "import pickle\n",
    "import ast\n",
    "import torch\n",
    "from sentence_transformers import SentenceTransformer"
   ]
  },
  {
   "cell_type": "code",
   "execution_count": 2,
   "id": "198a9725-be89-48f4-9376-96a53c0f9d93",
   "metadata": {},
   "outputs": [],
   "source": [
    "# Configurations\n",
    "feature_columns = ['overview', 'genres', 'keywords', 'production_companies']\n",
    "model = SentenceTransformer('all-MiniLM-L6-v2', device='cuda')\n",
    "allowed_languages = ['en', 'hi', 'mr', 'ta', 'te', 'ml', 'kn']\n",
    "required_columns = ['id', 'title', 'overview', 'genres', 'keywords', 'production_companies']"
   ]
  },
  {
   "cell_type": "code",
   "execution_count": 3,
   "id": "4ec6a256-ca54-4870-bb96-262c609732ad",
   "metadata": {},
   "outputs": [],
   "source": [
    "# Functions\n",
    "def clean_title(text):\n",
    "    \"\"\"Clean and sanitize title text.\"\"\"\n",
    "    if pd.isna(text):\n",
    "        return np.nan\n",
    "    text = str(text).strip('\\'\\\"-+| ')\n",
    "    text = re.sub(r'[^a-zA-Z0-9\\s-]', '', text)\n",
    "    return text if re.search(r'[a-zA-Z0-9]', text) else np.nan\n",
    "\n",
    "def clean_features(text):\n",
    "    \"\"\"Clean the movie overview.\"\"\"\n",
    "    if pd.isna(text):\n",
    "        return np.nan\n",
    "    text = str(text).strip('-+!\\'\\\" ')\n",
    "    text = re.sub(r'[\\(\\)\\[\\]\\'\\\"\\#]', '', text)\n",
    "    return text if re.search(r'[a-zA-Z0-9]', text) else np.nan\n",
    "\n",
    "def combine_features(row):\n",
    "    return f\"Overview: {row['overview']}. Genres include: {row['genres']}. Keywords are: {row['keywords']}. Produced by: {row['production_companies']}.\""
   ]
  },
  {
   "cell_type": "code",
   "execution_count": 4,
   "id": "b80b174f-6c7d-411d-94b9-2b3e06b7107d",
   "metadata": {},
   "outputs": [],
   "source": [
    "# Read the data\n",
    "df = pd.read_csv('Datasets/Source/TMDB_movie_dataset_v11.csv')"
   ]
  },
  {
   "cell_type": "code",
   "execution_count": 5,
   "id": "d985c8b5-1836-45f7-b1f4-be5391f77e8a",
   "metadata": {},
   "outputs": [],
   "source": [
    "# Filter and select required columns\n",
    "df = df[(df['original_language'].isin(allowed_languages)) & (df['status'] == 'Released')]\n",
    "df = df[required_columns]"
   ]
  },
  {
   "cell_type": "code",
   "execution_count": 6,
   "id": "fb1b52bc-afdf-4bca-8351-6d8d824aca78",
   "metadata": {},
   "outputs": [],
   "source": [
    "# Drop rows with missing critical data\n",
    "df.dropna(inplace=True)"
   ]
  },
  {
   "cell_type": "code",
   "execution_count": 8,
   "id": "723ecf06-0d26-4622-a8a6-6378f80e1fd7",
   "metadata": {},
   "outputs": [],
   "source": [
    "# Clean text fields\n",
    "df['title'] = df['title'].apply(clean_title)\n",
    "df['overview'] = df['overview'].apply(clean_features)\n",
    "df['genres'] = df['genres'].apply(clean_features)\n",
    "df['keywords'] = df['keywords'].apply(clean_features)\n",
    "df['production_companies'] = df['production_companies'].apply(clean_features)"
   ]
  },
  {
   "cell_type": "code",
   "execution_count": 9,
   "id": "16b6006d-61d5-4013-b5b3-1474010ae80b",
   "metadata": {},
   "outputs": [],
   "source": [
    "# Drop any new nulls created after cleaning and remove duplicates\n",
    "df.dropna(inplace=True)\n",
    "df.drop_duplicates(inplace=True)"
   ]
  },
  {
   "cell_type": "code",
   "execution_count": 10,
   "id": "e82302cf-ea31-4fe9-95b1-b68d410a7b53",
   "metadata": {},
   "outputs": [],
   "source": [
    "# Save intermediate cleaned data\n",
    "df.to_csv('Datasets/cleaned/cleaned.csv', index=False)"
   ]
  },
  {
   "cell_type": "code",
   "execution_count": 11,
   "id": "3a13c7e8-de25-43c5-af1d-1b38a1eb6867",
   "metadata": {},
   "outputs": [],
   "source": [
    "# Create combined 'features' column\n",
    "df['features'] = df.apply(combine_features, axis=1)"
   ]
  },
  {
   "cell_type": "code",
   "execution_count": 12,
   "id": "74b6b87c-dfda-41e3-ad66-7467996de8ad",
   "metadata": {},
   "outputs": [],
   "source": [
    "# Save processed data\n",
    "df.to_csv('Datasets/cleaned/processed.csv', index=False)"
   ]
  },
  {
   "cell_type": "code",
   "execution_count": 13,
   "id": "c8a87fec-6471-4c9f-a61b-614d6e88601e",
   "metadata": {},
   "outputs": [
    {
     "name": "stderr",
     "output_type": "stream",
     "text": [
      "Batches: 100%|█████████████████████████████████████████████| 3241/3241 [05:04<00:00, 10.66it/s]\n"
     ]
    }
   ],
   "source": [
    "# Vectorize tags using Sentence Transformers\n",
    "embeddings = model.encode(df['features'].tolist(), show_progress_bar=True)"
   ]
  },
  {
   "cell_type": "code",
   "execution_count": 14,
   "id": "acb75b4c-1579-40dd-8fd3-3e3bbd3ace14",
   "metadata": {},
   "outputs": [],
   "source": [
    "# Save DataFrame and embeddings\n",
    "with open('Datasets/cleaned/df.pkl', 'wb') as f1, open('Datasets/cleaned/embeddings.pkl', 'wb') as f2:\n",
    "    pickle.dump(df, f1)\n",
    "    pickle.dump(embeddings, f2)"
   ]
  },
  {
   "cell_type": "code",
   "execution_count": null,
   "id": "5dda4635-5f3b-4f62-85a8-276acb183508",
   "metadata": {},
   "outputs": [],
   "source": []
  }
 ],
 "metadata": {
  "kernelspec": {
   "display_name": "Python 3 (ipykernel)",
   "language": "python",
   "name": "python3"
  },
  "language_info": {
   "codemirror_mode": {
    "name": "ipython",
    "version": 3
   },
   "file_extension": ".py",
   "mimetype": "text/x-python",
   "name": "python",
   "nbconvert_exporter": "python",
   "pygments_lexer": "ipython3",
   "version": "3.12.0"
  }
 },
 "nbformat": 4,
 "nbformat_minor": 5
}
